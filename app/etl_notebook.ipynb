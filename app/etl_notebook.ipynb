{
 "cells": [
  {
   "cell_type": "code",
   "execution_count": 5,
   "metadata": {},
   "outputs": [],
   "source": [
    "import pandas as pd\n",
    "\n",
    "import dependencies"
   ]
  },
  {
   "cell_type": "code",
   "execution_count": 11,
   "metadata": {},
   "outputs": [],
   "source": [
    "path_input = dependencies.rootFolder / 'data' / 'raw'\n",
    "path_output = dependencies.rootFolder / 'data' / 'processed'"
   ]
  },
  {
   "cell_type": "code",
   "execution_count": 15,
   "metadata": {},
   "outputs": [],
   "source": [
    "df_camiones = pd.read_excel(\n",
    "    path_input / 'BASE DE DATOS 2022 PRUEBA.xlsx',\n",
    "    sheet_name='Lista de camiones',\n",
    "    usecols='A:D'\n",
    ")"
   ]
  },
  {
   "cell_type": "code",
   "execution_count": null,
   "metadata": {},
   "outputs": [],
   "source": []
  },
  {
   "cell_type": "code",
   "execution_count": 10,
   "metadata": {},
   "outputs": [
    {
     "data": {
      "text/html": [
       "<div>\n",
       "<style scoped>\n",
       "    .dataframe tbody tr th:only-of-type {\n",
       "        vertical-align: middle;\n",
       "    }\n",
       "\n",
       "    .dataframe tbody tr th {\n",
       "        vertical-align: top;\n",
       "    }\n",
       "\n",
       "    .dataframe thead th {\n",
       "        text-align: right;\n",
       "    }\n",
       "</style>\n",
       "<table border=\"1\" class=\"dataframe\">\n",
       "  <thead>\n",
       "    <tr style=\"text-align: right;\">\n",
       "      <th></th>\n",
       "      <th>VEHÍCULO</th>\n",
       "      <th>WILAYA</th>\n",
       "      <th>modelo</th>\n",
       "      <th>ESTADO</th>\n",
       "    </tr>\n",
       "  </thead>\n",
       "  <tbody>\n",
       "    <tr>\n",
       "      <th>0</th>\n",
       "      <td>CC53</td>\n",
       "      <td>Aaiun</td>\n",
       "      <td>VOLVO</td>\n",
       "      <td>NaN</td>\n",
       "    </tr>\n",
       "    <tr>\n",
       "      <th>1</th>\n",
       "      <td>CC54</td>\n",
       "      <td>Aaiun</td>\n",
       "      <td>VOLVO</td>\n",
       "      <td>NaN</td>\n",
       "    </tr>\n",
       "    <tr>\n",
       "      <th>2</th>\n",
       "      <td>CC55</td>\n",
       "      <td>Aaiun</td>\n",
       "      <td>VOLVO</td>\n",
       "      <td>NaN</td>\n",
       "    </tr>\n",
       "    <tr>\n",
       "      <th>3</th>\n",
       "      <td>CC56</td>\n",
       "      <td>Aaiun</td>\n",
       "      <td>VOLVO</td>\n",
       "      <td>NaN</td>\n",
       "    </tr>\n",
       "    <tr>\n",
       "      <th>4</th>\n",
       "      <td>CC57</td>\n",
       "      <td>Aaiun</td>\n",
       "      <td>VOLVO</td>\n",
       "      <td>NaN</td>\n",
       "    </tr>\n",
       "    <tr>\n",
       "      <th>...</th>\n",
       "      <td>...</td>\n",
       "      <td>...</td>\n",
       "      <td>...</td>\n",
       "      <td>...</td>\n",
       "    </tr>\n",
       "    <tr>\n",
       "      <th>79</th>\n",
       "      <td>CR219</td>\n",
       "      <td>Smara</td>\n",
       "      <td>MAN</td>\n",
       "      <td>NaN</td>\n",
       "    </tr>\n",
       "    <tr>\n",
       "      <th>80</th>\n",
       "      <td>CR223</td>\n",
       "      <td>Smara</td>\n",
       "      <td>MAN</td>\n",
       "      <td>NaN</td>\n",
       "    </tr>\n",
       "    <tr>\n",
       "      <th>81</th>\n",
       "      <td>CR224</td>\n",
       "      <td>Smara</td>\n",
       "      <td>MAN</td>\n",
       "      <td>NaN</td>\n",
       "    </tr>\n",
       "    <tr>\n",
       "      <th>82</th>\n",
       "      <td>CR225</td>\n",
       "      <td>Bojador</td>\n",
       "      <td>MAN</td>\n",
       "      <td>NaN</td>\n",
       "    </tr>\n",
       "    <tr>\n",
       "      <th>83</th>\n",
       "      <td>CR226</td>\n",
       "      <td>Dajla</td>\n",
       "      <td>MAN</td>\n",
       "      <td>NaN</td>\n",
       "    </tr>\n",
       "  </tbody>\n",
       "</table>\n",
       "<p>84 rows × 4 columns</p>\n",
       "</div>"
      ],
      "text/plain": [
       "   VEHÍCULO   WILAYA modelo   ESTADO\n",
       "0      CC53    Aaiun   VOLVO     NaN\n",
       "1      CC54    Aaiun   VOLVO     NaN\n",
       "2      CC55    Aaiun   VOLVO     NaN\n",
       "3      CC56    Aaiun   VOLVO     NaN\n",
       "4      CC57    Aaiun   VOLVO     NaN\n",
       "..      ...      ...     ...     ...\n",
       "79    CR219    Smara     MAN     NaN\n",
       "80    CR223    Smara     MAN     NaN\n",
       "81    CR224    Smara     MAN     NaN\n",
       "82    CR225  Bojador     MAN     NaN\n",
       "83    CR226    Dajla     MAN     NaN\n",
       "\n",
       "[84 rows x 4 columns]"
      ]
     },
     "execution_count": 10,
     "metadata": {},
     "output_type": "execute_result"
    }
   ],
   "source": [
    "df_camiones"
   ]
  },
  {
   "cell_type": "code",
   "execution_count": 12,
   "metadata": {},
   "outputs": [],
   "source": [
    "df_camiones.to_csv(path_output / \"Camiones.csv\")"
   ]
  },
  {
   "cell_type": "code",
   "execution_count": 16,
   "metadata": {},
   "outputs": [],
   "source": [
    "df_camiones = df_camiones[\"ESTADO\"]"
   ]
  }
 ],
 "metadata": {
  "kernelspec": {
   "display_name": "Python 3.11.0 64-bit",
   "language": "python",
   "name": "python3"
  },
  "language_info": {
   "codemirror_mode": {
    "name": "ipython",
    "version": 3
   },
   "file_extension": ".py",
   "mimetype": "text/x-python",
   "name": "python",
   "nbconvert_exporter": "python",
   "pygments_lexer": "ipython3",
   "version": "3.11.0"
  },
  "orig_nbformat": 4,
  "vscode": {
   "interpreter": {
    "hash": "a506bcac8078f99a7d8dedc13f0ca92cece08fa184f9fb8722b2d6364b2c16e1"
   }
  }
 },
 "nbformat": 4,
 "nbformat_minor": 2
}
